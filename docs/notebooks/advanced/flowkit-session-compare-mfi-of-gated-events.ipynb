{
 "cells": [
  {
   "cell_type": "markdown",
   "metadata": {
    "collapsed": false,
    "pycharm": {
     "name": "#%% md\n"
    }
   },
   "source": [
    "# Compare Mean Fluorescence Intensity of Gated Events"
   ]
  },
  {
   "cell_type": "code",
   "execution_count": null,
   "metadata": {
    "collapsed": false,
    "pycharm": {
     "name": "#%%\n"
    }
   },
   "outputs": [],
   "source": [
    "import os\n",
    "import pandas as pd\n",
    "\n",
    "import flowkit as fk\n",
    "\n",
    "%matplotlib inline"
   ]
  },
  {
   "cell_type": "markdown",
   "metadata": {
    "collapsed": false,
    "pycharm": {
     "name": "#%% md\n"
    }
   },
   "source": [
    "## Load FlowJo Workspace"
   ]
  },
  {
   "cell_type": "code",
   "execution_count": null,
   "metadata": {
    "collapsed": false,
    "pycharm": {
     "name": "#%%\n"
    }
   },
   "outputs": [],
   "source": [
    "base_dir = \"../../../data/8_color_data_set\"\n",
    "\n",
    "sample_path = os.path.join(base_dir, \"fcs_files\")\n",
    "wsp_path = os.path.join(base_dir, \"8_color_ICS.wsp\")"
   ]
  },
  {
   "cell_type": "code",
   "execution_count": null,
   "metadata": {
    "collapsed": false,
    "pycharm": {
     "name": "#%%\n"
    }
   },
   "outputs": [],
   "source": [
    "fks_fj = fk.Session(sample_path)\n",
    "fks_fj.import_flowjo_workspace(wsp_path)"
   ]
  },
  {
   "cell_type": "code",
   "execution_count": null,
   "metadata": {
    "collapsed": false,
    "pycharm": {
     "name": "#%%\n"
    }
   },
   "outputs": [],
   "source": [
    "fks_fj.get_sample_ids()"
   ]
  },
  {
   "cell_type": "code",
   "execution_count": null,
   "metadata": {
    "collapsed": false,
    "pycharm": {
     "name": "#%%\n"
    }
   },
   "outputs": [],
   "source": [
    "fks_fj.get_sample_groups()"
   ]
  },
  {
   "cell_type": "markdown",
   "metadata": {
    "collapsed": false,
    "pycharm": {
     "name": "#%% md\n"
    }
   },
   "source": [
    "## Record our sample ID and sample group for later"
   ]
  },
  {
   "cell_type": "code",
   "execution_count": null,
   "metadata": {
    "collapsed": false,
    "pycharm": {
     "name": "#%%\n"
    }
   },
   "outputs": [],
   "source": [
    "sample_id = '101_DEN084Y5_15_E03_009_clean.fcs'\n",
    "sample_grp = 'DEN'"
   ]
  },
  {
   "cell_type": "code",
   "execution_count": null,
   "metadata": {
    "collapsed": false,
    "pycharm": {
     "name": "#%%\n"
    }
   },
   "outputs": [],
   "source": [
    "sample = fks_fj.get_sample(sample_id)"
   ]
  },
  {
   "cell_type": "code",
   "execution_count": null,
   "metadata": {
    "collapsed": false,
    "pycharm": {
     "name": "#%%\n"
    }
   },
   "outputs": [],
   "source": [
    "sample.channels"
   ]
  },
  {
   "cell_type": "markdown",
   "metadata": {
    "collapsed": false,
    "pycharm": {
     "name": "#%% md\n"
    }
   },
   "source": [
    "## Review the gate hierachy"
   ]
  },
  {
   "cell_type": "code",
   "execution_count": null,
   "metadata": {
    "collapsed": false,
    "pycharm": {
     "name": "#%%\n"
    }
   },
   "outputs": [],
   "source": [
    "print(fks_fj.get_gate_hierarchy(sample_grp, 'ascii'))"
   ]
  },
  {
   "cell_type": "markdown",
   "metadata": {
    "collapsed": false,
    "pycharm": {
     "name": "#%% md\n"
    }
   },
   "source": [
    "## Process gates for the sample group"
   ]
  },
  {
   "cell_type": "code",
   "execution_count": null,
   "metadata": {
    "collapsed": false,
    "pycharm": {
     "name": "#%%\n"
    }
   },
   "outputs": [],
   "source": [
    "fks_fj.analyze_samples(sample_grp)"
   ]
  },
  {
   "cell_type": "code",
   "execution_count": null,
   "metadata": {
    "collapsed": false,
    "pycharm": {
     "name": "#%%\n"
    }
   },
   "outputs": [],
   "source": [
    "results = fks_fj.get_gating_results(sample_grp, sample_id)"
   ]
  },
  {
   "cell_type": "code",
   "execution_count": null,
   "metadata": {
    "collapsed": false,
    "pycharm": {
     "name": "#%%\n"
    }
   },
   "outputs": [],
   "source": [
    "results.report"
   ]
  },
  {
   "cell_type": "markdown",
   "metadata": {
    "collapsed": false,
    "pycharm": {
     "name": "#%% md\n"
    }
   },
   "source": [
    "## Get gated events for a sample"
   ]
  },
  {
   "cell_type": "code",
   "execution_count": null,
   "metadata": {
    "collapsed": false,
    "pycharm": {
     "name": "#%%\n"
    }
   },
   "outputs": [],
   "source": [
    "# first get a compensation matrix and transform to use for gated events\n",
    "comps = fks_fj.get_sample_comp_matrices(sample_grp, sample_id)\n",
    "xforms = fks_fj.get_sample_transforms(sample_grp, sample_id)"
   ]
  },
  {
   "cell_type": "code",
   "execution_count": null,
   "metadata": {
    "collapsed": false,
    "pycharm": {
     "name": "#%%\n"
    }
   },
   "outputs": [],
   "source": [
    "comps, xforms"
   ]
  },
  {
   "cell_type": "code",
   "execution_count": null,
   "metadata": {
    "collapsed": false,
    "pycharm": {
     "name": "#%%\n"
    }
   },
   "outputs": [],
   "source": [
    "comp = comps[0]\n",
    "xform = xforms[6]"
   ]
  },
  {
   "cell_type": "code",
   "execution_count": null,
   "metadata": {
    "collapsed": false,
    "pycharm": {
     "name": "#%%\n"
    }
   },
   "outputs": [],
   "source": [
    "cd4_gate_name = 'CD4+'\n",
    "cd4_events = fks_fj.get_gate_events(sample_grp, sample_id, cd4_gate_name, matrix=comp, transform=xform)"
   ]
  },
  {
   "cell_type": "code",
   "execution_count": null,
   "metadata": {
    "collapsed": false,
    "pycharm": {
     "name": "#%%\n"
    }
   },
   "outputs": [],
   "source": [
    "sample.event_count, len(cd4_events)"
   ]
  },
  {
   "cell_type": "code",
   "execution_count": null,
   "metadata": {
    "collapsed": false,
    "pycharm": {
     "name": "#%%\n"
    }
   },
   "outputs": [],
   "source": [
    "cd4_events"
   ]
  },
  {
   "cell_type": "markdown",
   "metadata": {
    "collapsed": false,
    "pycharm": {
     "name": "#%% md\n"
    }
   },
   "source": [
    "## Calculate means for channels of interest"
   ]
  },
  {
   "cell_type": "code",
   "execution_count": null,
   "metadata": {
    "collapsed": false,
    "pycharm": {
     "name": "#%%\n"
    }
   },
   "outputs": [],
   "source": [
    "cd4_mfi = cd4_events.mean()"
   ]
  },
  {
   "cell_type": "code",
   "execution_count": null,
   "metadata": {
    "collapsed": false,
    "pycharm": {
     "name": "#%%\n"
    }
   },
   "outputs": [],
   "source": [
    "cd4_mfi = cd4_mfi[sample.fluoro_indices]"
   ]
  },
  {
   "cell_type": "code",
   "execution_count": null,
   "metadata": {
    "collapsed": false,
    "pycharm": {
     "name": "#%%\n"
    }
   },
   "outputs": [],
   "source": [
    "cd4_mfi"
   ]
  },
  {
   "cell_type": "markdown",
   "metadata": {
    "collapsed": false,
    "pycharm": {
     "name": "#%% md\n"
    }
   },
   "source": [
    "### Let's compare MFI between CD4+ & CD8+"
   ]
  },
  {
   "cell_type": "code",
   "execution_count": 21,
   "metadata": {
    "pycharm": {
     "name": "#%%\n"
    }
   },
   "outputs": [
    {
     "data": {
      "text/plain": [
       "pnn                   pns\n",
       "TNFa FITC FLR-A              0.248338\n",
       "CD8 PerCP-Cy55 FLR-A         0.274010\n",
       "IL2 BV421 FLR-A              0.288348\n",
       "Aqua Amine FLR-A             0.250962\n",
       "IFNg APC FLR-A               0.246429\n",
       "CD3 APC-H7 FLR-A             0.488177\n",
       "CD107a PE FLR-A              0.279935\n",
       "CD4 PE-Cy7 FLR-A             0.588879\n",
       "dtype: float64"
      ]
     },
     "execution_count": 21,
     "metadata": {},
     "output_type": "execute_result"
    }
   ],
   "source": [
    "cd4_mfi"
   ]
  },
  {
   "cell_type": "markdown",
   "metadata": {
    "pycharm": {
     "name": "#%% md\n"
    }
   },
   "source": [
    "### Let's compare MFI between CD4+ & CD8+"
   ]
  },
  {
   "cell_type": "code",
   "execution_count": 22,
   "metadata": {
    "pycharm": {
     "name": "#%%\n"
    }
   },
   "outputs": [],
   "source": [
    "cd8_gate_name = 'CD8+'\n",
    "cd8_events = fks_fj.get_gate_events(sample_grp, sample_id, cd8_gate_name, matrix=comp, transform=xform)\n",
    "cd8_mfi = cd8_events.mean()[sample.fluoro_indices]"
   ]
  },
  {
   "cell_type": "code",
   "execution_count": 23,
   "metadata": {
    "pycharm": {
     "name": "#%%\n"
    }
   },
   "outputs": [],
   "source": [
    "mfi_comp = pd.DataFrame([cd4_mfi, cd8_mfi], index=[cd4_gate_name, cd8_gate_name])"
   ]
  },
  {
   "cell_type": "code",
   "execution_count": 24,
   "metadata": {
    "pycharm": {
     "name": "#%%\n"
    }
   },
   "outputs": [
    {
     "data": {
      "text/html": [
       "<div>\n",
       "<style scoped>\n",
       "    .dataframe tbody tr th:only-of-type {\n",
       "        vertical-align: middle;\n",
       "    }\n",
       "\n",
       "    .dataframe tbody tr th {\n",
       "        vertical-align: top;\n",
       "    }\n",
       "\n",
       "    .dataframe thead tr th {\n",
       "        text-align: left;\n",
       "    }\n",
       "</style>\n",
       "<table border=\"1\" class=\"dataframe\">\n",
       "  <thead>\n",
       "    <tr>\n",
       "      <th>pnn</th>\n",
       "      <th>TNFa FITC FLR-A</th>\n",
       "      <th>CD8 PerCP-Cy55 FLR-A</th>\n",
       "      <th>IL2 BV421 FLR-A</th>\n",
       "      <th>Aqua Amine FLR-A</th>\n",
       "      <th>IFNg APC FLR-A</th>\n",
       "      <th>CD3 APC-H7 FLR-A</th>\n",
       "      <th>CD107a PE FLR-A</th>\n",
       "      <th>CD4 PE-Cy7 FLR-A</th>\n",
       "    </tr>\n",
       "    <tr>\n",
       "      <th>pns</th>\n",
       "      <th></th>\n",
       "      <th></th>\n",
       "      <th></th>\n",
       "      <th></th>\n",
       "      <th></th>\n",
       "      <th></th>\n",
       "      <th></th>\n",
       "      <th></th>\n",
       "    </tr>\n",
       "  </thead>\n",
       "  <tbody>\n",
       "    <tr>\n",
       "      <th>CD4+</th>\n",
       "      <td>0.248338</td>\n",
       "      <td>0.274010</td>\n",
       "      <td>0.288348</td>\n",
       "      <td>0.250962</td>\n",
       "      <td>0.246429</td>\n",
       "      <td>0.488177</td>\n",
       "      <td>0.279935</td>\n",
       "      <td>0.588879</td>\n",
       "    </tr>\n",
       "    <tr>\n",
       "      <th>CD8+</th>\n",
       "      <td>0.250975</td>\n",
       "      <td>0.584248</td>\n",
       "      <td>0.283504</td>\n",
       "      <td>0.251208</td>\n",
       "      <td>0.252061</td>\n",
       "      <td>0.459689</td>\n",
       "      <td>0.292997</td>\n",
       "      <td>0.308986</td>\n",
       "    </tr>\n",
       "  </tbody>\n",
       "</table>\n",
       "</div>"
      ],
      "text/plain": [
       "pnn  TNFa FITC FLR-A CD8 PerCP-Cy55 FLR-A IL2 BV421 FLR-A Aqua Amine FLR-A  \\\n",
       "pns                                                                          \n",
       "CD4+        0.248338             0.274010        0.288348         0.250962   \n",
       "CD8+        0.250975             0.584248        0.283504         0.251208   \n",
       "\n",
       "pnn  IFNg APC FLR-A CD3 APC-H7 FLR-A CD107a PE FLR-A CD4 PE-Cy7 FLR-A  \n",
       "pns                                                                    \n",
       "CD4+       0.246429         0.488177        0.279935         0.588879  \n",
       "CD8+       0.252061         0.459689        0.292997         0.308986  "
      ]
     },
     "execution_count": 24,
     "metadata": {},
     "output_type": "execute_result"
    }
   ],
   "source": [
    "mfi_comp"
   ]
  },
  {
   "cell_type": "code",
   "execution_count": 25,
   "metadata": {
    "pycharm": {
     "name": "#%%\n"
    }
   },
   "outputs": [],
   "source": [
    "mfi_comp = mfi_comp.transpose().droplevel('pns').reset_index()"
   ]
  },
  {
   "cell_type": "code",
   "execution_count": 26,
   "metadata": {
    "pycharm": {
     "name": "#%%\n"
    }
   },
   "outputs": [
    {
     "data": {
      "text/html": [
       "<div>\n",
       "<style scoped>\n",
       "    .dataframe tbody tr th:only-of-type {\n",
       "        vertical-align: middle;\n",
       "    }\n",
       "\n",
       "    .dataframe tbody tr th {\n",
       "        vertical-align: top;\n",
       "    }\n",
       "\n",
       "    .dataframe thead th {\n",
       "        text-align: right;\n",
       "    }\n",
       "</style>\n",
       "<table border=\"1\" class=\"dataframe\">\n",
       "  <thead>\n",
       "    <tr style=\"text-align: right;\">\n",
       "      <th></th>\n",
       "      <th>pnn</th>\n",
       "      <th>CD4+</th>\n",
       "      <th>CD8+</th>\n",
       "    </tr>\n",
       "  </thead>\n",
       "  <tbody>\n",
       "    <tr>\n",
       "      <th>0</th>\n",
       "      <td>TNFa FITC FLR-A</td>\n",
       "      <td>0.248338</td>\n",
       "      <td>0.250975</td>\n",
       "    </tr>\n",
       "    <tr>\n",
       "      <th>1</th>\n",
       "      <td>CD8 PerCP-Cy55 FLR-A</td>\n",
       "      <td>0.274010</td>\n",
       "      <td>0.584248</td>\n",
       "    </tr>\n",
       "    <tr>\n",
       "      <th>2</th>\n",
       "      <td>IL2 BV421 FLR-A</td>\n",
       "      <td>0.288348</td>\n",
       "      <td>0.283504</td>\n",
       "    </tr>\n",
       "    <tr>\n",
       "      <th>3</th>\n",
       "      <td>Aqua Amine FLR-A</td>\n",
       "      <td>0.250962</td>\n",
       "      <td>0.251208</td>\n",
       "    </tr>\n",
       "    <tr>\n",
       "      <th>4</th>\n",
       "      <td>IFNg APC FLR-A</td>\n",
       "      <td>0.246429</td>\n",
       "      <td>0.252061</td>\n",
       "    </tr>\n",
       "    <tr>\n",
       "      <th>5</th>\n",
       "      <td>CD3 APC-H7 FLR-A</td>\n",
       "      <td>0.488177</td>\n",
       "      <td>0.459689</td>\n",
       "    </tr>\n",
       "    <tr>\n",
       "      <th>6</th>\n",
       "      <td>CD107a PE FLR-A</td>\n",
       "      <td>0.279935</td>\n",
       "      <td>0.292997</td>\n",
       "    </tr>\n",
       "    <tr>\n",
       "      <th>7</th>\n",
       "      <td>CD4 PE-Cy7 FLR-A</td>\n",
       "      <td>0.588879</td>\n",
       "      <td>0.308986</td>\n",
       "    </tr>\n",
       "  </tbody>\n",
       "</table>\n",
       "</div>"
      ],
      "text/plain": [
       "                    pnn      CD4+      CD8+\n",
       "0       TNFa FITC FLR-A  0.248338  0.250975\n",
       "1  CD8 PerCP-Cy55 FLR-A  0.274010  0.584248\n",
       "2       IL2 BV421 FLR-A  0.288348  0.283504\n",
       "3      Aqua Amine FLR-A  0.250962  0.251208\n",
       "4        IFNg APC FLR-A  0.246429  0.252061\n",
       "5      CD3 APC-H7 FLR-A  0.488177  0.459689\n",
       "6       CD107a PE FLR-A  0.279935  0.292997\n",
       "7      CD4 PE-Cy7 FLR-A  0.588879  0.308986"
      ]
     },
     "execution_count": 26,
     "metadata": {},
     "output_type": "execute_result"
    }
   ],
   "source": [
    "mfi_comp"
   ]
  },
  {
   "cell_type": "code",
   "execution_count": 27,
   "metadata": {
    "pycharm": {
     "name": "#%%\n"
    }
   },
   "outputs": [
    {
     "data": {
      "text/plain": [
       "[]"
      ]
     },
     "execution_count": 27,
     "metadata": {},
     "output_type": "execute_result"
    },
    {
     "data": {
      "image/png": "[encoded data removed]",
      "text/plain": [
       "<Figure size 864x432 with 1 Axes>"
      ]
     },
     "metadata": {
      "needs_background": "light"
     },
     "output_type": "display_data"
    }
   ],
   "source": [
    "ax = mfi_comp.plot.bar(x='pnn', figsize=(12, 6))\n",
    "ax.set_title(\"Mean Fluorescence Intensity - CD4+ vs CD8+\", color='black', fontsize=18)\n",
    "ax.legend(bbox_to_anchor=(1.0, 1.0), fontsize=12)\n",
    "ax.set_xticklabels(ax.get_xticklabels(), rotation=45)\n",
    "ax.plot()"
   ]
  },
  {
   "cell_type": "code",
   "execution_count": null,
   "metadata": {
    "pycharm": {
     "name": "#%%\n"
    }
   },
   "outputs": [],
   "source": []
  }
 ],
 "metadata": {
  "kernelspec": {
   "display_name": "Python 3 (ipykernel)",
   "language": "python",
   "name": "python3"
  },
  "language_info": {
   "codemirror_mode": {
    "name": "ipython",
    "version": 3
   },
   "file_extension": ".py",
   "mimetype": "text/x-python",
   "name": "python",
   "nbconvert_exporter": "python",
   "pygments_lexer": "ipython3",
   "version": "3.10.4"
  }
 },
 "nbformat": 4,
 "nbformat_minor": 4
}
