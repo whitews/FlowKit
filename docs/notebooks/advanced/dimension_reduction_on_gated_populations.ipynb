{
 "cells": [
  {
   "cell_type": "markdown",
   "metadata": {
    "collapsed": false,
    "pycharm": {
     "name": "#%% md\n"
    }
   },
   "source": [
    "# Dimension Reduction on Gated Populations"
   ]
  },
  {
   "cell_type": "code",
   "execution_count": null,
   "metadata": {
    "collapsed": false,
    "pycharm": {
     "name": "#%%\n"
    }
   },
   "outputs": [],
   "source": [
    "import os\n",
    "import matplotlib.pyplot as plt\n",
    "import pandas as pd\n",
    "from sklearn.preprocessing import StandardScaler, MinMaxScaler\n",
    "import joypy\n",
    "import pacmap\n",
    "import fitsne\n",
    "import umap\n",
    "import flowkit as fk\n",
    "\n",
    "%matplotlib inline"
   ]
  },
  {
   "cell_type": "code",
   "execution_count": null,
   "metadata": {
    "collapsed": false,
    "pycharm": {
     "name": "#%%\n"
    }
   },
   "outputs": [],
   "source": [
    "def make_plots(data, sample_ids, titles, marker, k=10000, seed=123):\n",
    "    \"\"\"Reduce scatter and fluroescent channel data to 2D for visualization.\"\"\"\n",
    "\n",
    "    scaler = StandardScaler()\n",
    "    data_scaled = scaler.fit_transform(data)\n",
    "\n",
    "    umap_reducer = umap.UMAP()\n",
    "    pacmap_reducer = pacmap.PaCMAP()\n",
    "\n",
    "    X_fitsne = fitsne.FItSNE(data_scaled)\n",
    "    X_umap = umap_reducer.fit_transform(data_scaled)\n",
    "    X_pacmap = pacmap_reducer.fit_transform(data_scaled)\n",
    "    \n",
    "    min_max_scaler = MinMaxScaler()\n",
    "    X_reduceds = [\n",
    "        min_max_scaler.fit_transform(tmp_x) for tmp_x in [X_fitsne, X_umap, X_pacmap]\n",
    "    ]\n",
    "    \n",
    "    n = len(X_reduceds)\n",
    "    fig, axes = plt.subplots(n, 3, figsize=(n*3, 9))\n",
    "\n",
    "    for i, (X_reduced, title) in enumerate(zip(X_reduceds, titles)):\n",
    "        for j in range(3):\n",
    "            z = X[marker].iloc[(j*k):(j+1)*k]\n",
    "            ax = axes[j, i]\n",
    "            ax.scatter(\n",
    "                X_reduced[(j*k):(j+1)*k, 0], \n",
    "                X_reduced[(j*k):(j+1)*k, 1], \n",
    "                s=1, \n",
    "                c=z, \n",
    "                cmap='jet'\n",
    "            )\n",
    "            ax.set_xticks([])\n",
    "            ax.set_yticks([])\n",
    "            ax.set_xlim([-0.1,1.1])\n",
    "            ax.set_ylim([-0.1,1.1])\n",
    "            \n",
    "            if j==0:\n",
    "                ax.set_title(title, fontsize=14)\n",
    "            if i==0:\n",
    "                ax.set_ylabel('-'.join(sample_ids[j].split('_')[3:5]), fontsize=14)\n",
    "    \n",
    "    plt.tight_layout()"
   ]
  },
  {
   "cell_type": "code",
   "execution_count": null,
   "metadata": {
    "pycharm": {
     "name": "#%%\n"
    }
   },
   "outputs": [],
   "source": [
    "base_dir = \"../../../data/8_color_data_set\"\n",
    "sample_path = os.path.join(base_dir, \"fcs_files\")\n",
    "wsp_path = os.path.join(base_dir, \"8_color_ICS.wsp\")"
   ]
  },
  {
   "cell_type": "code",
   "execution_count": null,
   "metadata": {
    "pycharm": {
     "name": "#%%\n"
    }
   },
   "outputs": [],
   "source": [
    "session = fk.Session(sample_path)\n",
    "session.import_flowjo_workspace(wsp_path)"
   ]
  },
  {
   "cell_type": "code",
   "execution_count": null,
   "metadata": {
    "pycharm": {
     "name": "#%%\n"
    }
   },
   "outputs": [],
   "source": [
    "sample_groups = session.get_sample_groups()\n",
    "sample_groups"
   ]
  },
  {
   "cell_type": "code",
   "execution_count": null,
   "metadata": {
    "pycharm": {
     "name": "#%%\n"
    }
   },
   "outputs": [],
   "source": [
    "sample_group = sample_groups[-1]"
   ]
  },
  {
   "cell_type": "code",
   "execution_count": null,
   "metadata": {
    "pycharm": {
     "name": "#%%\n"
    }
   },
   "outputs": [],
   "source": [
    "print(session.get_gate_hierarchy(sample_group, output='ascii'))"
   ]
  },
  {
   "cell_type": "code",
   "execution_count": null,
   "metadata": {
    "pycharm": {
     "name": "#%%\n"
    }
   },
   "outputs": [],
   "source": [
    "sample_ids = sorted(session.get_group_sample_ids(sample_group))\n",
    "sample_ids"
   ]
  },
  {
   "cell_type": "code",
   "execution_count": null,
   "metadata": {
    "pycharm": {
     "name": "#%%\n"
    }
   },
   "outputs": [],
   "source": [
    "session.analyze_samples(sample_group)"
   ]
  },
  {
   "cell_type": "markdown",
   "metadata": {
    "pycharm": {
     "name": "#%% md\n"
    }
   },
   "source": [
    "## Compare marker distributions between CD4+ and CD8+"
   ]
  },
  {
   "cell_type": "code",
   "execution_count": null,
   "metadata": {
    "pycharm": {
     "name": "#%%\n"
    }
   },
   "outputs": [],
   "source": [
    "k = 10_000\n",
    "\n",
    "dfs_cd4 = session.get_wsp_gated_events(sample_group, gate_name='CD4+')\n",
    "dfs_cd8 = session.get_wsp_gated_events(sample_group, gate_name='CD8+')\n",
    "\n",
    "X_cd4 = pd.melt(pd.concat([df.iloc[:, 2:-1].sample(k) for df in dfs_cd4]))\n",
    "X_cd8 = pd.melt(pd.concat([df.iloc[:, 2:-1].sample(k) for df in dfs_cd8]))\n",
    "\n",
    "X = pd.concat([X_cd4, X_cd8], axis=1)\n",
    "X = X.iloc[:, [0,1,3]]\n",
    "X.columns = ['marker', 'CD4+', 'CD8+']"
   ]
  },
  {
   "cell_type": "code",
   "execution_count": null,
   "metadata": {
    "pycharm": {
     "name": "#%%\n"
    }
   },
   "outputs": [],
   "source": [
    "X"
   ]
  },
  {
   "cell_type": "code",
   "execution_count": null,
   "metadata": {
    "pycharm": {
     "name": "#%%\n"
    }
   },
   "outputs": [],
   "source": [
    "fig, ax = joypy.joyplot(\n",
    "    X.groupby('marker', sort=False), \n",
    "    column=['CD4+', 'CD8+'],\n",
    "    color=['red', 'blue'],\n",
    "    legend=True,\n",
    "    alpha=0.5,\n",
    "    linewidth=0.5,\n",
    "    ylim='own',\n",
    "    figsize=(10, 6)\n",
    ")"
   ]
  },
  {
   "cell_type": "markdown",
   "metadata": {
    "pycharm": {
     "name": "#%% md\n"
    }
   },
   "source": [
    "## Visualize dimension reduction schemes for events in Singlet gate"
   ]
  },
  {
   "cell_type": "code",
   "execution_count": null,
   "metadata": {
    "pycharm": {
     "name": "#%%\n"
    }
   },
   "outputs": [],
   "source": [
    "k = 10_000\n",
    "\n",
    "dfs = session.get_wsp_gated_events(sample_group, gate_name='Singlets')\n",
    "X = pd.concat([df.iloc[:, 2:-1].sample(k) for df in dfs])\n",
    "\n",
    "marker = 'CD4 PE-Cy7 FLR-A'\n",
    "titles = ['FIt-SNE', 'UMAP', 'PaCMAP']\n",
    "make_plots(X, sample_ids, titles, marker, k)"
   ]
  },
  {
   "cell_type": "markdown",
   "metadata": {
    "pycharm": {
     "name": "#%% md\n"
    }
   },
   "source": [
    "## Visualize dimension reduction schemes for events in CD3+ gate"
   ]
  },
  {
   "cell_type": "code",
   "execution_count": null,
   "metadata": {
    "pycharm": {
     "name": "#%%\n"
    }
   },
   "outputs": [],
   "source": [
    "k = 10_000\n",
    "\n",
    "dfs = session.get_wsp_gated_events(sample_group, gate_name='CD3+')\n",
    "X = pd.concat([df.iloc[:, 2:-1].sample(k) for df in dfs])\n",
    "\n",
    "marker = 'CD4 PE-Cy7 FLR-A'\n",
    "titles = ['FIt-SNE', 'UMAP', 'PaCMAP']\n",
    "make_plots(X, sample_ids, titles, marker, k)"
   ]
  },
  {
   "cell_type": "code",
   "execution_count": null,
   "metadata": {
    "pycharm": {
     "name": "#%%\n"
    }
   },
   "outputs": [],
   "source": []
  }
 ],
 "metadata": {
  "kernelspec": {
   "display_name": "trauma",
   "language": "python",
   "name": "python3"
  },
  "language_info": {
   "codemirror_mode": {
    "name": "ipython",
    "version": 3
   },
   "file_extension": ".py",
   "mimetype": "text/x-python",
   "name": "python",
   "nbconvert_exporter": "python",
   "pygments_lexer": "ipython3",
   "version": "3.10.8"
  },
  "vscode": {
   "interpreter": {
    "hash": "66a0f0b810a9033c5eddd7a2a3e64ea1d7902469bffb973ae8ef7c769d3828a4"
   }
  }
 },
 "nbformat": 4,
 "nbformat_minor": 4
}
