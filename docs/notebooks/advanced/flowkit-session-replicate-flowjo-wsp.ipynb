{
 "cells": [
  {
   "cell_type": "markdown",
   "metadata": {},
   "source": [
    "# Programmatically Replicate Gating from a FlowJo Workspace"
   ]
  },
  {
   "cell_type": "code",
   "execution_count": null,
   "metadata": {},
   "outputs": [],
   "source": [
    "import os\n",
    "import bokeh\n",
    "from bokeh.plotting import show\n",
    "import matplotlib.pyplot as plt\n",
    "import numpy as np\n",
    "\n",
    "import flowkit as fk\n",
    "\n",
    "bokeh.io.output_notebook()\n",
    "%matplotlib inline"
   ]
  },
  {
   "cell_type": "markdown",
   "metadata": {},
   "source": [
    "## Load FlowJo Workspace\n",
    "\n",
    "We load the workspace just to show the gating strategy that we want to replicate programmatically. \n",
    "\n",
    "**At the end of the notebook, the replicated analysis is exported to a new FlowJo 10 workspace.**"
   ]
  },
  {
   "cell_type": "code",
   "execution_count": null,
   "metadata": {},
   "outputs": [],
   "source": [
    "base_dir = \"../../../data/8_color_data_set\"\n",
    "\n",
    "sample_path = os.path.join(base_dir, \"fcs_files\")\n",
    "wsp_path = os.path.join(base_dir, \"8_color_ICS.wsp\")"
   ]
  },
  {
   "cell_type": "code",
   "execution_count": null,
   "metadata": {},
   "outputs": [],
   "source": [
    "fks_fj = fk.Session(sample_path)\n",
    "fks_fj.import_flowjo_workspace(wsp_path)"
   ]
  },
  {
   "cell_type": "code",
   "execution_count": null,
   "metadata": {},
   "outputs": [],
   "source": [
    "fks_fj.get_sample_ids()"
   ]
  },
  {
   "cell_type": "code",
   "execution_count": null,
   "metadata": {
    "scrolled": true
   },
   "outputs": [],
   "source": [
    "fks_fj.get_sample_groups()"
   ]
  },
  {
   "cell_type": "markdown",
   "metadata": {},
   "source": [
    "### Record our sample ID and sample group for later"
   ]
  },
  {
   "cell_type": "code",
   "execution_count": null,
   "metadata": {},
   "outputs": [],
   "source": [
    "sample_id = '101_DEN084Y5_15_E03_009_clean.fcs'\n",
    "sample_grp = 'DEN'"
   ]
  },
  {
   "cell_type": "code",
   "execution_count": null,
   "metadata": {},
   "outputs": [],
   "source": [
    "sample = fks_fj.get_sample(sample_id)"
   ]
  },
  {
   "cell_type": "code",
   "execution_count": null,
   "metadata": {},
   "outputs": [],
   "source": [
    "sample.channels"
   ]
  },
  {
   "cell_type": "markdown",
   "metadata": {},
   "source": [
    "### Here's the gate hierachy we aim to replicate"
   ]
  },
  {
   "cell_type": "code",
   "execution_count": null,
   "metadata": {
    "scrolled": false
   },
   "outputs": [],
   "source": [
    "print(fks_fj.get_gate_hierarchy(sample_grp, 'ascii'))"
   ]
  },
  {
   "cell_type": "code",
   "execution_count": null,
   "metadata": {
    "scrolled": true
   },
   "outputs": [],
   "source": [
    "fks_fj.get_group_transforms(sample_grp)"
   ]
  },
  {
   "cell_type": "code",
   "execution_count": null,
   "metadata": {},
   "outputs": [],
   "source": [
    "fks_fj.analyze_samples(sample_grp)"
   ]
  },
  {
   "cell_type": "code",
   "execution_count": null,
   "metadata": {},
   "outputs": [],
   "source": [
    "results = fks_fj.get_gating_results(sample_grp, sample_id)"
   ]
  },
  {
   "cell_type": "code",
   "execution_count": null,
   "metadata": {},
   "outputs": [],
   "source": [
    "fks_fj.get_gate_membership(sample_grp, sample_id, 'Singlets')"
   ]
  },
  {
   "cell_type": "code",
   "execution_count": null,
   "metadata": {},
   "outputs": [],
   "source": [
    "results.report.head()"
   ]
  },
  {
   "cell_type": "markdown",
   "metadata": {},
   "source": [
    "## Create a new Session\n",
    "\n",
    "Then, load a single FCS sample and define a new sample group."
   ]
  },
  {
   "cell_type": "code",
   "execution_count": null,
   "metadata": {},
   "outputs": [],
   "source": [
    "fks = fk.Session()\n",
    "\n",
    "full_sample_path = os.path.join(sample_path, sample_id)\n",
    "\n",
    "sample_grp = 'DEN'\n",
    "\n",
    "fks.add_sample_group(sample_grp)\n",
    "fks.add_samples(full_sample_path, group_name=sample_grp)"
   ]
  },
  {
   "cell_type": "markdown",
   "metadata": {},
   "source": [
    "Load the compensation matrix from a CSV file and add it to the group"
   ]
  },
  {
   "cell_type": "code",
   "execution_count": null,
   "metadata": {},
   "outputs": [],
   "source": [
    "# setup comp matrix\n",
    "detectors = [sample.pnn_labels[i] for i in sample.fluoro_indices]\n",
    "den_comp_mat = fk.Matrix('den_comp', '../../../examples/data/8_color_data_set/den_comp.csv', detectors)"
   ]
  },
  {
   "cell_type": "code",
   "execution_count": null,
   "metadata": {},
   "outputs": [],
   "source": [
    "den_comp_mat.detectors"
   ]
  },
  {
   "cell_type": "code",
   "execution_count": null,
   "metadata": {},
   "outputs": [],
   "source": [
    "fks.add_comp_matrix(den_comp_mat, group_name=sample_grp)"
   ]
  },
  {
   "cell_type": "markdown",
   "metadata": {},
   "source": [
    "Define our transformations and add them to the group"
   ]
  },
  {
   "cell_type": "code",
   "execution_count": null,
   "metadata": {},
   "outputs": [],
   "source": [
    "# Setup transforms\n",
    "time_xform = fk.transforms.LinearTransform('time_xform', param_t=72.0, param_a=0.8511997311)\n",
    "scatter_xform = fk.transforms.LinearTransform('lin_xform', param_t=262144, param_a=0)\n",
    "flr_xform = fk.transforms.LogicleTransform(\n",
    "    'logicle_xform', \n",
    "    param_t=262144.0, \n",
    "    param_w=1.0, \n",
    "    param_m=4.418539922,\n",
    "    param_a=0.0\n",
    ")\n",
    "fks.add_transform(time_xform, group_name=sample_grp)\n",
    "fks.add_transform(scatter_xform, group_name=sample_grp)\n",
    "fks.add_transform(flr_xform, group_name=sample_grp)"
   ]
  },
  {
   "cell_type": "markdown",
   "metadata": {},
   "source": [
    "### Begin defining gates, starting with the Time gate"
   ]
  },
  {
   "cell_type": "code",
   "execution_count": null,
   "metadata": {},
   "outputs": [],
   "source": [
    "# NOTE: The ranges we use for this time gate are not the same as those in the .wsp file, \n",
    "#       so event counts will be different\n",
    "time_dim = fk.Dimension(\n",
    "    'Time', \n",
    "    compensation_ref='uncompensated', \n",
    "    transformation_ref=time_xform.id, \n",
    "    range_min=0.1, \n",
    "    range_max=0.96\n",
    ")"
   ]
  },
  {
   "cell_type": "code",
   "execution_count": null,
   "metadata": {},
   "outputs": [],
   "source": [
    "# create time gate using Time dimension\n",
    "time_gate = fk.gates.RectangleGate('Time', None, [time_dim])"
   ]
  },
  {
   "cell_type": "code",
   "execution_count": null,
   "metadata": {},
   "outputs": [],
   "source": [
    "fks.add_gate(time_gate, group_name=sample_grp)"
   ]
  },
  {
   "cell_type": "code",
   "execution_count": null,
   "metadata": {},
   "outputs": [],
   "source": [
    "print(fks.get_gate_hierarchy(sample_grp))"
   ]
  },
  {
   "cell_type": "code",
   "execution_count": null,
   "metadata": {},
   "outputs": [],
   "source": [
    "fks.analyze_samples(sample_grp)"
   ]
  },
  {
   "cell_type": "code",
   "execution_count": null,
   "metadata": {
    "scrolled": false
   },
   "outputs": [],
   "source": [
    "p = fks.plot_gate(sample_grp, sample_id, \"Time\")\n",
    "show(p)"
   ]
  },
  {
   "cell_type": "markdown",
   "metadata": {},
   "source": [
    "### Define Singlet gate"
   ]
  },
  {
   "cell_type": "code",
   "execution_count": null,
   "metadata": {},
   "outputs": [],
   "source": [
    "# create singlet gate, starting with dimensions\n",
    "dim_fsc_w = fk.Dimension('FSC-W', 'uncompensated', transformation_ref=scatter_xform.id)\n",
    "dim_fsc_h = fk.Dimension('FSC-H', 'uncompensated', transformation_ref=scatter_xform.id)"
   ]
  },
  {
   "cell_type": "code",
   "execution_count": null,
   "metadata": {},
   "outputs": [],
   "source": [
    "# look at dimensions gated on Time\n",
    "p = fks.plot_scatter(\n",
    "    sample_id, \n",
    "    dim_fsc_w, \n",
    "    dim_fsc_h, \n",
    "    group_name=sample_grp, \n",
    "    gate_name=\"Time\", \n",
    "    subsample=True\n",
    ")\n",
    "show(p)"
   ]
  },
  {
   "cell_type": "code",
   "execution_count": null,
   "metadata": {},
   "outputs": [],
   "source": [
    "# get our vertices from analyst, algo, etc.\n",
    "singlet_vertices = [\n",
    "    fk.Vertex([0.328125, 0.1640625]),\n",
    "    fk.Vertex([0.296875, 0.1484375]),\n",
    "    fk.Vertex([0.27734375, 0.25390625]),\n",
    "    fk.Vertex([0.27734375, 0.52734375]),\n",
    "    fk.Vertex([0.28125, 0.78515625]),\n",
    "    fk.Vertex([0.30859375, 0.8515625]),\n",
    "    fk.Vertex([0.34765625, 0.3984375]),\n",
    "    fk.Vertex([0.3359375, 0.1875])\n",
    "]"
   ]
  },
  {
   "cell_type": "code",
   "execution_count": null,
   "metadata": {},
   "outputs": [],
   "source": [
    "singlet_gate = fk.gates.PolygonGate(\n",
    "    'Singlets', \n",
    "    'Time', \n",
    "    [dim_fsc_w, dim_fsc_h], \n",
    "    singlet_vertices\n",
    ")"
   ]
  },
  {
   "cell_type": "code",
   "execution_count": null,
   "metadata": {},
   "outputs": [],
   "source": [
    "fks.add_gate(singlet_gate, group_name=sample_grp)"
   ]
  },
  {
   "cell_type": "code",
   "execution_count": null,
   "metadata": {},
   "outputs": [],
   "source": [
    "print(fks.get_gate_hierarchy(sample_grp))"
   ]
  },
  {
   "cell_type": "code",
   "execution_count": null,
   "metadata": {},
   "outputs": [],
   "source": [
    "fks.analyze_samples(sample_grp)"
   ]
  },
  {
   "cell_type": "markdown",
   "metadata": {},
   "source": [
    "### Define Live gate"
   ]
  },
  {
   "cell_type": "code",
   "execution_count": null,
   "metadata": {},
   "outputs": [],
   "source": [
    "# create live cell gate, creating dims then plotting the previous gate\n",
    "dim_amine_a = fk.Dimension('Aqua Amine FLR-A', den_comp_mat.id, transformation_ref=flr_xform.id)\n",
    "dim_ssc_a = fk.Dimension('SSC-A', 'uncompensated', transformation_ref=scatter_xform.id)"
   ]
  },
  {
   "cell_type": "code",
   "execution_count": null,
   "metadata": {},
   "outputs": [],
   "source": [
    "# look at dimensions gated on Singlets\n",
    "p = fks.plot_scatter(\n",
    "    sample_id, \n",
    "    dim_amine_a, \n",
    "    dim_ssc_a, \n",
    "    group_name=sample_grp, \n",
    "    gate_name=\"Singlets\", \n",
    "    subsample=True,\n",
    "    x_min=0,\n",
    "    x_max=1.0,\n",
    "    y_min=0,\n",
    "    y_max=1.0\n",
    ")\n",
    "show(p)"
   ]
  },
  {
   "cell_type": "code",
   "execution_count": null,
   "metadata": {},
   "outputs": [],
   "source": [
    "# get our vertices from analyst, algo, etc.\n",
    "live_cell_vertices = [\n",
    "    fk.Vertex([0.2629268137285685, 0.0625]),\n",
    "    fk.Vertex([0.24318837264468562, 0.03515625]),\n",
    "    fk.Vertex([0.21573453285608676, 0.0390625]),\n",
    "    fk.Vertex([0.20396768438347745, 0.0546875]),\n",
    "    fk.Vertex([0.20396768438347745, 0.140625]),\n",
    "    fk.Vertex([0.20460078058895426, 0.3117570495605469]),\n",
    "    fk.Vertex([0.2355517136894538, 0.328125]),\n",
    "    fk.Vertex([0.26856506770333155, 0.3125]),\n",
    "    fk.Vertex([0.29042797365869377, 0.24609375]),\n",
    "    fk.Vertex([0.29042797365869377, 0.1484375])\n",
    "]"
   ]
  },
  {
   "cell_type": "code",
   "execution_count": null,
   "metadata": {},
   "outputs": [],
   "source": [
    "live_cell_gate = fk.gates.PolygonGate(\n",
    "    'aAmine-', \n",
    "    'Singlets', \n",
    "    [dim_amine_a, dim_ssc_a], \n",
    "    live_cell_vertices\n",
    ")"
   ]
  },
  {
   "cell_type": "code",
   "execution_count": null,
   "metadata": {},
   "outputs": [],
   "source": [
    "fks.add_gate(live_cell_gate, group_name=sample_grp)"
   ]
  },
  {
   "cell_type": "code",
   "execution_count": null,
   "metadata": {},
   "outputs": [],
   "source": [
    "print(fks.get_gate_hierarchy(sample_grp))"
   ]
  },
  {
   "cell_type": "code",
   "execution_count": null,
   "metadata": {},
   "outputs": [],
   "source": [
    "fks.analyze_samples(sample_grp)"
   ]
  },
  {
   "cell_type": "markdown",
   "metadata": {},
   "source": [
    "### Define CD3+ gate"
   ]
  },
  {
   "cell_type": "code",
   "execution_count": null,
   "metadata": {},
   "outputs": [],
   "source": [
    "# create CD3+ gate\n",
    "dim_cd3_a = fk.Dimension(\n",
    "    'CD3 APC-H7 FLR-A', \n",
    "    den_comp_mat.id, \n",
    "    transformation_ref=flr_xform.id\n",
    ")"
   ]
  },
  {
   "cell_type": "code",
   "execution_count": null,
   "metadata": {},
   "outputs": [],
   "source": [
    "f = fks.plot_scatter(\n",
    "    sample_id, \n",
    "    dim_cd3_a, \n",
    "    dim_ssc_a, \n",
    "    group_name=sample_grp, \n",
    "    gate_name='aAmine-',\n",
    "    x_min=0,\n",
    "    x_max=1,\n",
    "    y_min=0,\n",
    "    y_max=1,\n",
    "    subsample=True\n",
    ")\n",
    "show(f)"
   ]
  },
  {
   "cell_type": "code",
   "execution_count": null,
   "metadata": {},
   "outputs": [],
   "source": [
    "# get our vertices from analyst, algo, etc.\n",
    "cd3_vertices = [\n",
    "    fk.Vertex([0.28415161867527605, 0.11328125]),\n",
    "    fk.Vertex([0.3132637699981912, 0.203125]),\n",
    "    fk.Vertex([0.42207818508379846, 0.3046875]),\n",
    "    fk.Vertex([0.5067109372185516, 0.359375]),\n",
    "    fk.Vertex([0.6853991917182599, 0.35546875]),\n",
    "    fk.Vertex([0.6896802981119161, 0.05078125]),\n",
    "    fk.Vertex([0.5692952580886116, 0.01953125]),\n",
    "    fk.Vertex([0.3192472844795108, 0.01953125])\n",
    "]"
   ]
  },
  {
   "cell_type": "code",
   "execution_count": null,
   "metadata": {},
   "outputs": [],
   "source": [
    "cd3_gate = fk.gates.PolygonGate('CD3+', 'aAmine-', [dim_cd3_a, dim_ssc_a], cd3_vertices)"
   ]
  },
  {
   "cell_type": "code",
   "execution_count": null,
   "metadata": {},
   "outputs": [],
   "source": [
    "fks.add_gate(cd3_gate, group_name=sample_grp)"
   ]
  },
  {
   "cell_type": "code",
   "execution_count": null,
   "metadata": {},
   "outputs": [],
   "source": [
    "fks.analyze_samples(sample_grp)"
   ]
  },
  {
   "cell_type": "markdown",
   "metadata": {},
   "source": [
    "### Define CD4+ and CD8+ branch gates"
   ]
  },
  {
   "cell_type": "code",
   "execution_count": null,
   "metadata": {},
   "outputs": [],
   "source": [
    "# create CD4+ & CD8+ gates\n",
    "dim_cd4_a = fk.Dimension('CD4 PE-Cy7 FLR-A', den_comp_mat.id, transformation_ref=flr_xform.id)\n",
    "dim_cd8_a = fk.Dimension('CD8 PerCP-Cy55 FLR-A', den_comp_mat.id, transformation_ref=flr_xform.id)"
   ]
  },
  {
   "cell_type": "code",
   "execution_count": null,
   "metadata": {},
   "outputs": [],
   "source": [
    "# look at dimensions gated on CD3+\n",
    "p = fks.plot_scatter(\n",
    "    sample_id, \n",
    "    dim_cd4_a, \n",
    "    dim_cd8_a, \n",
    "    group_name=sample_grp, \n",
    "    gate_name=\"CD3+\", \n",
    "    subsample=True,\n",
    "    x_min=0,\n",
    "    x_max=1.0,\n",
    "    y_min=0,\n",
    "    y_max=1.0\n",
    ")\n",
    "show(p)"
   ]
  },
  {
   "cell_type": "code",
   "execution_count": null,
   "metadata": {},
   "outputs": [],
   "source": [
    "cd4_vertices = [\n",
    "    fk.Vertex([0.33228361583463906, 0.20521609423858533]),\n",
    "    fk.Vertex([0.32558526100158003, 0.22402959677045098]),\n",
    "    fk.Vertex([0.3288891623611386, 0.2534446627500065]),\n",
    "    fk.Vertex([0.35453955634069056, 0.3162117257472119]),\n",
    "    fk.Vertex([0.38884335063325615, 0.37109236044857546]),\n",
    "    fk.Vertex([0.49681261945848476, 0.39344265440087484]),\n",
    "    fk.Vertex([0.6241875538107384, 0.4172035843426509]),\n",
    "    fk.Vertex([0.6811074648618941, 0.32237152038011546]),\n",
    "    fk.Vertex([0.6939511366527197, 0.23138424146124928]),\n",
    "    fk.Vertex([0.6982119969313532, 0.20396768438347745]),\n",
    "    fk.Vertex([0.5311666680646416, 0.20396768438347745]),\n",
    "    fk.Vertex([0.33576875548246565, 0.20396768438347745])\n",
    "]"
   ]
  },
  {
   "cell_type": "code",
   "execution_count": null,
   "metadata": {},
   "outputs": [],
   "source": [
    "cd8_vertices = [\n",
    "    fk.Vertex([0.19654236830112726, 0.8063681300583732]),\n",
    "    fk.Vertex([0.7981838566398077, 0.8186148712026381]),\n",
    "    fk.Vertex([0.8145363952765393, 0.45683210068669505]),\n",
    "    fk.Vertex([0.36683425557526916, 0.37109236044857546]),\n",
    "    fk.Vertex([0.28415161867527605, 0.2949602838822682]),\n",
    "    fk.Vertex([0.19654236830112726, 0.28826829762740075])\n",
    "]"
   ]
  },
  {
   "cell_type": "code",
   "execution_count": null,
   "metadata": {},
   "outputs": [],
   "source": [
    "cd4_gate = fk.gates.PolygonGate('CD4+', 'CD3+', [dim_cd4_a, dim_cd8_a], cd4_vertices)\n",
    "cd8_gate = fk.gates.PolygonGate('CD8+', 'CD3+', [dim_cd4_a, dim_cd8_a], cd8_vertices)"
   ]
  },
  {
   "cell_type": "code",
   "execution_count": null,
   "metadata": {},
   "outputs": [],
   "source": [
    "fks.add_gate(cd4_gate, group_name=sample_grp)\n",
    "fks.add_gate(cd8_gate, group_name=sample_grp)"
   ]
  },
  {
   "cell_type": "code",
   "execution_count": null,
   "metadata": {},
   "outputs": [],
   "source": [
    "print(fks.get_gate_hierarchy(sample_grp))"
   ]
  },
  {
   "cell_type": "code",
   "execution_count": null,
   "metadata": {},
   "outputs": [],
   "source": [
    "fks.analyze_samples(sample_grp)"
   ]
  },
  {
   "cell_type": "markdown",
   "metadata": {},
   "source": [
    "### Create CD107a+, IFNg, IL2, & TNFa gates, then add to CD4 & CD8 branches"
   ]
  },
  {
   "cell_type": "code",
   "execution_count": null,
   "metadata": {},
   "outputs": [],
   "source": [
    "dim_cd107a_a = fk.Dimension('CD107a PE FLR-A', den_comp_mat.id, transformation_ref=flr_xform.id)\n",
    "dim_ifng_a = fk.Dimension('IFNg APC FLR-A', den_comp_mat.id, transformation_ref=flr_xform.id)\n",
    "dim_il2_a = fk.Dimension('IL2 BV421 FLR-A', den_comp_mat.id, transformation_ref=flr_xform.id)\n",
    "dim_tnfa_a = fk.Dimension('TNFa FITC FLR-A', den_comp_mat.id, transformation_ref=flr_xform.id)"
   ]
  },
  {
   "cell_type": "code",
   "execution_count": null,
   "metadata": {},
   "outputs": [],
   "source": [
    "# start with CD107a gated on CD4+ branch\n",
    "p = fks.plot_scatter(\n",
    "    sample_id, \n",
    "    dim_cd3_a, \n",
    "    dim_cd107a_a, \n",
    "    group_name=sample_grp, \n",
    "    gate_name=\"CD4+\", \n",
    "    subsample=True,\n",
    "    x_min=0,\n",
    "    x_max=1.0,\n",
    "    y_min=0,\n",
    "    y_max=1.0\n",
    ")\n",
    "show(p)"
   ]
  },
  {
   "cell_type": "code",
   "execution_count": null,
   "metadata": {},
   "outputs": [],
   "source": [
    "# these next gates are all rectangle gates, so bounds will be defined in the Dimension instances\n",
    "cd4_cd3_dim = fk.Dimension(\n",
    "    'CD3 APC-H7 FLR-A', \n",
    "    compensation_ref=den_comp_mat.id, \n",
    "    transformation_ref=flr_xform.id, \n",
    "    range_min=0.2, \n",
    "    range_max=1.0\n",
    ")\n",
    "cd4_cd107_dim = fk.Dimension(\n",
    "    'CD107a PE FLR-A', \n",
    "    compensation_ref=den_comp_mat.id, \n",
    "    transformation_ref=flr_xform.id, \n",
    "    range_min=0.5645990565096747, \n",
    "    range_max=1.1647085183977386\n",
    ")"
   ]
  },
  {
   "cell_type": "code",
   "execution_count": null,
   "metadata": {},
   "outputs": [],
   "source": [
    "cd4_cd107_gate = fk.gates.RectangleGate('CD107a+', 'CD4+', [cd4_cd3_dim, cd4_cd107_dim])"
   ]
  },
  {
   "cell_type": "code",
   "execution_count": null,
   "metadata": {},
   "outputs": [],
   "source": [
    "fks.add_gate(cd4_cd107_gate, group_name=sample_grp)"
   ]
  },
  {
   "cell_type": "code",
   "execution_count": null,
   "metadata": {},
   "outputs": [],
   "source": [
    "# the IFNg, IL2, & TNFa gates will share the same CD3 bounds, so only define their dims\n",
    "cd4_ifng_dim = fk.Dimension(\n",
    "    'IFNg APC FLR-A', \n",
    "    compensation_ref=den_comp_mat.id, \n",
    "    transformation_ref=flr_xform.id, \n",
    "    range_min=0.30232120911824945, \n",
    "    range_max=1.1874194728667935\n",
    ")\n",
    "cd4_il2_dim = fk.Dimension(\n",
    "    'IL2 BV421 FLR-A', \n",
    "    compensation_ref=den_comp_mat.id, \n",
    "    transformation_ref=flr_xform.id, \n",
    "    range_min=0.45683210351871706, \n",
    "    range_max=1.136312449258137\n",
    ")\n",
    "cd4_tnfa_dim = fk.Dimension(\n",
    "    'TNFa FITC FLR-A', \n",
    "    compensation_ref=den_comp_mat.id, \n",
    "    transformation_ref=flr_xform.id, \n",
    "    range_min=0.2904279740369533, \n",
    "    range_max=1.0965394616932618\n",
    ")"
   ]
  },
  {
   "cell_type": "code",
   "execution_count": null,
   "metadata": {},
   "outputs": [],
   "source": [
    "# and likewise, create & add their rectangle gates\n",
    "cd4_ifng_gate = fk.gates.RectangleGate('IFNg+', 'CD4+', [cd4_cd3_dim, cd4_ifng_dim])\n",
    "cd4_il2_gate = fk.gates.RectangleGate('IL2+', 'CD4+', [cd4_cd3_dim, cd4_il2_dim])\n",
    "cd4_tnfa_gate = fk.gates.RectangleGate('TNFa+', 'CD4+', [cd4_cd3_dim, cd4_tnfa_dim])\n",
    "\n",
    "fks.add_gate(cd4_ifng_gate, group_name=sample_grp)\n",
    "fks.add_gate(cd4_il2_gate, group_name=sample_grp)\n",
    "fks.add_gate(cd4_tnfa_gate, group_name=sample_grp)"
   ]
  },
  {
   "cell_type": "code",
   "execution_count": null,
   "metadata": {},
   "outputs": [],
   "source": [
    "# the gates in the CD8+ branch are the same except for the parent ID\n",
    "cd8_cd107_gate = fk.gates.RectangleGate('CD107a+', 'CD8+', [cd4_cd3_dim, cd4_cd107_dim])\n",
    "cd8_ifng_gate = fk.gates.RectangleGate('IFNg+', 'CD8+', [cd4_cd3_dim, cd4_ifng_dim])\n",
    "cd8_il2_gate = fk.gates.RectangleGate('IL2+', 'CD8+', [cd4_cd3_dim, cd4_il2_dim])\n",
    "cd8_tnfa_gate = fk.gates.RectangleGate('TNFa+', 'CD8+', [cd4_cd3_dim, cd4_tnfa_dim])"
   ]
  },
  {
   "cell_type": "code",
   "execution_count": null,
   "metadata": {},
   "outputs": [],
   "source": [
    "fks.add_gate(cd8_cd107_gate, group_name=sample_grp)\n",
    "fks.add_gate(cd8_ifng_gate, group_name=sample_grp)\n",
    "fks.add_gate(cd8_il2_gate, group_name=sample_grp)\n",
    "fks.add_gate(cd8_tnfa_gate, group_name=sample_grp)"
   ]
  },
  {
   "cell_type": "code",
   "execution_count": null,
   "metadata": {},
   "outputs": [],
   "source": [
    "print(fks.get_gate_hierarchy(sample_grp))"
   ]
  },
  {
   "cell_type": "code",
   "execution_count": null,
   "metadata": {},
   "outputs": [],
   "source": [
    "fks.analyze_samples(sample_grp)"
   ]
  },
  {
   "cell_type": "markdown",
   "metadata": {},
   "source": [
    "### Review all our gates"
   ]
  },
  {
   "cell_type": "code",
   "execution_count": null,
   "metadata": {
    "scrolled": true
   },
   "outputs": [],
   "source": [
    "for i, row in results.report.iterrows():    \n",
    "    p = fks.plot_gate(\n",
    "        sample_grp, \n",
    "        row['sample'], # 'sample' is a Pandas, so lookup explicitly\n",
    "        gate_name=row.gate_name,\n",
    "        gate_path=row.gate_path,\n",
    "        x_min=0, \n",
    "        x_max=1.2, \n",
    "        y_min=0, \n",
    "        y_max=1.2\n",
    "    )\n",
    "    show(p)"
   ]
  },
  {
   "cell_type": "markdown",
   "metadata": {},
   "source": [
    "### Get gating results (currently with only 1 sample assigned & analyzed)"
   ]
  },
  {
   "cell_type": "code",
   "execution_count": null,
   "metadata": {},
   "outputs": [],
   "source": [
    "results = fks.get_gating_results(sample_grp, sample_id)"
   ]
  },
  {
   "cell_type": "code",
   "execution_count": null,
   "metadata": {},
   "outputs": [],
   "source": [
    "results.report.head()"
   ]
  },
  {
   "cell_type": "markdown",
   "metadata": {},
   "source": [
    "### Now add more samples and simply re-run the analysis"
   ]
  },
  {
   "cell_type": "code",
   "execution_count": null,
   "metadata": {},
   "outputs": [],
   "source": [
    "fks.add_samples([\n",
    "    os.path.join(sample_path, '101_DEN084Y5_15_E01_008_clean.fcs'),\n",
    "    os.path.join(sample_path, '101_DEN084Y5_15_E05_010_clean.fcs')\n",
    "    ],\n",
    "    sample_grp\n",
    ")"
   ]
  },
  {
   "cell_type": "code",
   "execution_count": null,
   "metadata": {},
   "outputs": [],
   "source": [
    "# running with verbose=True to see progress as it can take some time to run\n",
    "fks.analyze_samples(sample_grp, verbose=True)"
   ]
  },
  {
   "cell_type": "markdown",
   "metadata": {},
   "source": [
    "### Retrieve and review the final report"
   ]
  },
  {
   "cell_type": "code",
   "execution_count": null,
   "metadata": {},
   "outputs": [],
   "source": [
    "grp_report = fks.get_group_report(sample_grp)"
   ]
  },
  {
   "cell_type": "code",
   "execution_count": null,
   "metadata": {
    "scrolled": true
   },
   "outputs": [],
   "source": [
    "grp_report.head()"
   ]
  },
  {
   "cell_type": "code",
   "execution_count": null,
   "metadata": {},
   "outputs": [],
   "source": [
    "grp_report[grp_report.gate_name == 'CD8+']"
   ]
  },
  {
   "cell_type": "markdown",
   "metadata": {},
   "source": [
    "### Export our sample group analysis to a new FlowJo workspace"
   ]
  },
  {
   "cell_type": "code",
   "execution_count": null,
   "metadata": {},
   "outputs": [],
   "source": [
    "new_wsp_path = os.path.join(\"\", \"new_8_color_ICS.wsp\")\n",
    "\n",
    "fks.export_wsp(new_wsp_path, sample_grp)"
   ]
  },
  {
   "cell_type": "code",
   "execution_count": null,
   "metadata": {},
   "outputs": [],
   "source": []
  }
 ],
 "metadata": {
  "kernelspec": {
   "display_name": "trauma",
   "language": "python",
   "name": "python3"
  },
  "language_info": {
   "codemirror_mode": {
    "name": "ipython",
    "version": 3
   },
   "file_extension": ".py",
   "mimetype": "text/x-python",
   "name": "python",
   "nbconvert_exporter": "python",
   "pygments_lexer": "ipython3",
   "version": "3.10.8"
  },
  "vscode": {
   "interpreter": {
    "hash": "66a0f0b810a9033c5eddd7a2a3e64ea1d7902469bffb973ae8ef7c769d3828a4"
   }
  }
 },
 "nbformat": 4,
 "nbformat_minor": 4
}
